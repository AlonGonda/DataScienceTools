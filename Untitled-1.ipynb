{
 "cells": [
  {
   "cell_type": "markdown",
   "metadata": {},
   "source": [
    "This markdown cell is for introductino"
   ]
  },
  {
   "cell_type": "markdown",
   "metadata": {},
   "source": [
    "Data Science languages: python, java, julia, R, scala, javascript, c++, scala, sql"
   ]
  },
  {
   "cell_type": "markdown",
   "metadata": {},
   "source": [
    "Data Science libraries: tensorflow, matplotlib, scipy, pandas, keras, numpy, scikit-learn"
   ]
  },
  {
   "cell_type": "markdown",
   "metadata": {},
   "source": [
    "| Data Science Tools |\n",
    "| --- |\n",
    "| Apache Spark |\n",
    "|Tensorflow |\n",
    "|Matplotlib |\n",
    "| MongoDB |\n",
    "|PostgresDB |\n",
    "|Apache Hadoop |\n",
    "| MLX |\n",
    "|DAX |\n",
    "|Jupyter Notebook/lab |"
   ]
  },
  {
   "cell_type": "markdown",
   "metadata": {},
   "source": [
    "5 -- a number is an arithmetic expression.\n",
    "(3 + 4) -- the sum of numbers is an arithmetic expression.\n",
    "(7 - 3) -- the difference of two numbers is an arithmetic expression.\n",
    "(2 5), 2 5 -- a product of two numbers is an arithmetic expression"
   ]
  },
  {
   "cell_type": "code",
   "execution_count": 1,
   "metadata": {},
   "outputs": [
    {
     "data": {
      "text/plain": [
       "10"
      ]
     },
     "execution_count": 1,
     "metadata": {},
     "output_type": "execute_result"
    }
   ],
   "source": [
    "5*5\n",
    "5+5"
   ]
  },
  {
   "cell_type": "code",
   "execution_count": 2,
   "metadata": {},
   "outputs": [
    {
     "data": {
      "text/plain": [
       "1.6666666666666667"
      ]
     },
     "execution_count": 2,
     "metadata": {},
     "output_type": "execute_result"
    }
   ],
   "source": [
    "100/60"
   ]
  },
  {
   "cell_type": "markdown",
   "metadata": {},
   "source": [
    "| Objectives |\n",
    "| --- |\n",
    "| Find job in the field |\n",
    "| Make a difference |"
   ]
  },
  {
   "cell_type": "markdown",
   "metadata": {},
   "source": [
    "Alon Gonda"
   ]
  }
 ],
 "metadata": {
  "kernelspec": {
   "display_name": "Python 3.10.11 64-bit (microsoft store)",
   "language": "python",
   "name": "python3"
  },
  "language_info": {
   "codemirror_mode": {
    "name": "ipython",
    "version": 3
   },
   "file_extension": ".py",
   "mimetype": "text/x-python",
   "name": "python",
   "nbconvert_exporter": "python",
   "pygments_lexer": "ipython3",
   "version": "3.10.11"
  },
  "orig_nbformat": 4,
  "vscode": {
   "interpreter": {
    "hash": "7b1f2b33e866b0bf2409397e5f58ba9cdf170d3b7f64c8f359c79998e2f88ad4"
   }
  }
 },
 "nbformat": 4,
 "nbformat_minor": 2
}
